{
 "cells": [
  {
   "cell_type": "code",
   "execution_count": 2,
   "id": "7ec87011",
   "metadata": {},
   "outputs": [
    {
     "name": "stdout",
     "output_type": "stream",
     "text": [
      "WARNING:tensorflow:From C:\\Users\\dmish\\anaconda3\\Lib\\site-packages\\keras\\src\\losses.py:2976: The name tf.losses.sparse_softmax_cross_entropy is deprecated. Please use tf.compat.v1.losses.sparse_softmax_cross_entropy instead.\n",
      "\n"
     ]
    },
    {
     "data": {
      "text/plain": [
       "'2.15.0'"
      ]
     },
     "execution_count": 2,
     "metadata": {},
     "output_type": "execute_result"
    }
   ],
   "source": [
    "# Importing the libraries\n",
    "import tensorflow as tf\n",
    "from keras.preprocessing.image import ImageDataGenerator\n",
    "tf.__version__"
   ]
  },
  {
   "cell_type": "code",
   "execution_count": 4,
   "id": "a635a98f",
   "metadata": {},
   "outputs": [
    {
     "name": "stdout",
     "output_type": "stream",
     "text": [
      "Found 8000 images belonging to 2 classes.\n",
      "Found 2000 images belonging to 2 classes.\n"
     ]
    }
   ],
   "source": [
    "# Part 1 - Data Preprocessing\n",
    "\n",
    "# Preprocessing the Training set\n",
    "train_datagen = ImageDataGenerator(rescale = 1./255,\n",
    "                                   shear_range = 0.2,\n",
    "                                   zoom_range = 0.2,\n",
    "                                   horizontal_flip = True)\n",
    "training_set = train_datagen.flow_from_directory('dataset/training_set',\n",
    "                                                 target_size = (64, 64),\n",
    "                                                 batch_size = 32,\n",
    "                                                 class_mode = 'binary')\n",
    "\n",
    "# Preprocessing the Test set\n",
    "test_datagen = ImageDataGenerator(rescale = 1./255)\n",
    "test_set = test_datagen.flow_from_directory('dataset/test_set',\n",
    "                                            target_size = (64, 64),\n",
    "                                            batch_size = 32,\n",
    "                                            class_mode = 'binary')\n"
   ]
  },
  {
   "cell_type": "code",
   "execution_count": 5,
   "id": "cb367d0a",
   "metadata": {},
   "outputs": [
    {
     "name": "stdout",
     "output_type": "stream",
     "text": [
      "WARNING:tensorflow:From C:\\Users\\dmish\\anaconda3\\Lib\\site-packages\\keras\\src\\backend.py:873: The name tf.get_default_graph is deprecated. Please use tf.compat.v1.get_default_graph instead.\n",
      "\n",
      "WARNING:tensorflow:From C:\\Users\\dmish\\anaconda3\\Lib\\site-packages\\keras\\src\\layers\\pooling\\max_pooling2d.py:161: The name tf.nn.max_pool is deprecated. Please use tf.nn.max_pool2d instead.\n",
      "\n"
     ]
    }
   ],
   "source": [
    "# Part 2 - Building the CNN\n",
    "\n",
    "# Initialising the CNN\n",
    "cnn = tf.keras.models.Sequential()\n",
    "\n",
    "# Step 1 - Convolution\n",
    "cnn.add(tf.keras.layers.Conv2D(filters=32, kernel_size=3, activation='relu', input_shape=[64, 64, 3]))\n",
    "\n",
    "# Step 2 - Pooling\n",
    "cnn.add(tf.keras.layers.MaxPool2D(pool_size=2, strides=2))\n",
    "\n",
    "# Adding a second convolutional layer\n",
    "cnn.add(tf.keras.layers.Conv2D(filters=32, kernel_size=3, activation='relu'))\n",
    "cnn.add(tf.keras.layers.MaxPool2D(pool_size=2, strides=2))\n",
    "\n",
    "# Step 3 - Flattening\n",
    "cnn.add(tf.keras.layers.Flatten())\n",
    "\n",
    "# Step 4 - Full Connection\n",
    "cnn.add(tf.keras.layers.Dense(units=128, activation='relu'))\n",
    "\n",
    "# Step 5 - Output Layer\n",
    "cnn.add(tf.keras.layers.Dense(units=1, activation='sigmoid'))"
   ]
  },
  {
   "cell_type": "code",
   "execution_count": 6,
   "id": "dd2746b0",
   "metadata": {},
   "outputs": [
    {
     "name": "stdout",
     "output_type": "stream",
     "text": [
      "WARNING:tensorflow:From C:\\Users\\dmish\\anaconda3\\Lib\\site-packages\\keras\\src\\optimizers\\__init__.py:309: The name tf.train.Optimizer is deprecated. Please use tf.compat.v1.train.Optimizer instead.\n",
      "\n",
      "Epoch 1/25\n",
      "WARNING:tensorflow:From C:\\Users\\dmish\\anaconda3\\Lib\\site-packages\\keras\\src\\utils\\tf_utils.py:492: The name tf.ragged.RaggedTensorValue is deprecated. Please use tf.compat.v1.ragged.RaggedTensorValue instead.\n",
      "\n",
      "WARNING:tensorflow:From C:\\Users\\dmish\\anaconda3\\Lib\\site-packages\\keras\\src\\engine\\base_layer_utils.py:384: The name tf.executing_eagerly_outside_functions is deprecated. Please use tf.compat.v1.executing_eagerly_outside_functions instead.\n",
      "\n",
      "250/250 [==============================] - 122s 482ms/step - loss: 0.6775 - accuracy: 0.5721 - val_loss: 0.6476 - val_accuracy: 0.6195\n",
      "Epoch 2/25\n",
      "250/250 [==============================] - 34s 138ms/step - loss: 0.6076 - accuracy: 0.6730 - val_loss: 0.5834 - val_accuracy: 0.6865\n",
      "Epoch 3/25\n",
      "250/250 [==============================] - 31s 122ms/step - loss: 0.5623 - accuracy: 0.7021 - val_loss: 0.5559 - val_accuracy: 0.7100\n",
      "Epoch 4/25\n",
      "250/250 [==============================] - 30s 121ms/step - loss: 0.5290 - accuracy: 0.7346 - val_loss: 0.4967 - val_accuracy: 0.7745\n",
      "Epoch 5/25\n",
      "250/250 [==============================] - 31s 123ms/step - loss: 0.4997 - accuracy: 0.7505 - val_loss: 0.4939 - val_accuracy: 0.7660\n",
      "Epoch 6/25\n",
      "250/250 [==============================] - 31s 125ms/step - loss: 0.4800 - accuracy: 0.7696 - val_loss: 0.5104 - val_accuracy: 0.7655\n",
      "Epoch 7/25\n",
      "250/250 [==============================] - 30s 122ms/step - loss: 0.4632 - accuracy: 0.7781 - val_loss: 0.4555 - val_accuracy: 0.7915\n",
      "Epoch 8/25\n",
      "250/250 [==============================] - 31s 123ms/step - loss: 0.4472 - accuracy: 0.7891 - val_loss: 0.4802 - val_accuracy: 0.7750\n",
      "Epoch 9/25\n",
      "250/250 [==============================] - 30s 122ms/step - loss: 0.4294 - accuracy: 0.7994 - val_loss: 0.5216 - val_accuracy: 0.7465\n",
      "Epoch 10/25\n",
      "250/250 [==============================] - 31s 125ms/step - loss: 0.4216 - accuracy: 0.7976 - val_loss: 0.4637 - val_accuracy: 0.7900\n",
      "Epoch 11/25\n",
      "250/250 [==============================] - 30s 120ms/step - loss: 0.3995 - accuracy: 0.8226 - val_loss: 0.4514 - val_accuracy: 0.7960\n",
      "Epoch 12/25\n",
      "250/250 [==============================] - 30s 119ms/step - loss: 0.3896 - accuracy: 0.8215 - val_loss: 0.4524 - val_accuracy: 0.7920\n",
      "Epoch 13/25\n",
      "250/250 [==============================] - 30s 118ms/step - loss: 0.3779 - accuracy: 0.8307 - val_loss: 0.4432 - val_accuracy: 0.8045\n",
      "Epoch 14/25\n",
      "250/250 [==============================] - 31s 124ms/step - loss: 0.3623 - accuracy: 0.8353 - val_loss: 0.4401 - val_accuracy: 0.8060\n",
      "Epoch 15/25\n",
      "250/250 [==============================] - 30s 120ms/step - loss: 0.3445 - accuracy: 0.8472 - val_loss: 0.5628 - val_accuracy: 0.7430\n",
      "Epoch 16/25\n",
      "250/250 [==============================] - 30s 120ms/step - loss: 0.3305 - accuracy: 0.8522 - val_loss: 0.4441 - val_accuracy: 0.8145\n",
      "Epoch 17/25\n",
      "250/250 [==============================] - 30s 122ms/step - loss: 0.3140 - accuracy: 0.8606 - val_loss: 0.4908 - val_accuracy: 0.7850\n",
      "Epoch 18/25\n",
      "250/250 [==============================] - 30s 121ms/step - loss: 0.3103 - accuracy: 0.8652 - val_loss: 0.4773 - val_accuracy: 0.8150\n",
      "Epoch 19/25\n",
      "250/250 [==============================] - 30s 120ms/step - loss: 0.2889 - accuracy: 0.8723 - val_loss: 0.4536 - val_accuracy: 0.8160\n",
      "Epoch 20/25\n",
      "250/250 [==============================] - 30s 120ms/step - loss: 0.2698 - accuracy: 0.8886 - val_loss: 0.4811 - val_accuracy: 0.8030\n",
      "Epoch 21/25\n",
      "250/250 [==============================] - 33s 131ms/step - loss: 0.2572 - accuracy: 0.8930 - val_loss: 0.5333 - val_accuracy: 0.7875\n",
      "Epoch 22/25\n",
      "250/250 [==============================] - 34s 135ms/step - loss: 0.2519 - accuracy: 0.8967 - val_loss: 0.4869 - val_accuracy: 0.8110\n",
      "Epoch 23/25\n",
      "250/250 [==============================] - 36s 143ms/step - loss: 0.2431 - accuracy: 0.8967 - val_loss: 0.5167 - val_accuracy: 0.8025\n",
      "Epoch 24/25\n",
      "250/250 [==============================] - 36s 146ms/step - loss: 0.2229 - accuracy: 0.9107 - val_loss: 0.4967 - val_accuracy: 0.8180\n",
      "Epoch 25/25\n",
      "250/250 [==============================] - 34s 137ms/step - loss: 0.2059 - accuracy: 0.9151 - val_loss: 0.5809 - val_accuracy: 0.8040\n"
     ]
    },
    {
     "data": {
      "text/plain": [
       "<keras.src.callbacks.History at 0x1e5a8d01710>"
      ]
     },
     "execution_count": 6,
     "metadata": {},
     "output_type": "execute_result"
    }
   ],
   "source": [
    "# Part 3 - Training the CNN\n",
    "\n",
    "# Compiling the CNN\n",
    "cnn.compile(optimizer = 'adam', loss = 'binary_crossentropy', metrics = ['accuracy'])\n",
    "\n",
    "# Training the CNN on the Training set and evaluating it on the Test set\n",
    "cnn.fit(x = training_set, validation_data = test_set, epochs = 25)"
   ]
  },
  {
   "cell_type": "code",
   "execution_count": 8,
   "id": "7fab81ac",
   "metadata": {},
   "outputs": [
    {
     "name": "stdout",
     "output_type": "stream",
     "text": [
      "1/1 [==============================] - 0s 32ms/step\n",
      "cat\n"
     ]
    }
   ],
   "source": [
    "# Part 4 - Making a single prediction\n",
    "\n",
    "import numpy as np\n",
    "from keras.preprocessing import image\n",
    "test_image = image.load_img('dataset/single_prediction/cat_or_dog_2.jpg', target_size = (64, 64))\n",
    "test_image = image.img_to_array(test_image)\n",
    "test_image = np.expand_dims(test_image, axis = 0)\n",
    "result = cnn.predict(test_image)\n",
    "training_set.class_indices\n",
    "if result[0][0] == 1:\n",
    "    prediction = 'dog'\n",
    "else:\n",
    "    prediction = 'cat'\n",
    "print(prediction)"
   ]
  },
  {
   "cell_type": "code",
   "execution_count": null,
   "id": "4034ed3b",
   "metadata": {},
   "outputs": [],
   "source": []
  }
 ],
 "metadata": {
  "kernelspec": {
   "display_name": "Python 3 (ipykernel)",
   "language": "python",
   "name": "python3"
  },
  "language_info": {
   "codemirror_mode": {
    "name": "ipython",
    "version": 3
   },
   "file_extension": ".py",
   "mimetype": "text/x-python",
   "name": "python",
   "nbconvert_exporter": "python",
   "pygments_lexer": "ipython3",
   "version": "3.11.4"
  }
 },
 "nbformat": 4,
 "nbformat_minor": 5
}
